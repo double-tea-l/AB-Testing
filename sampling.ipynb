{
 "cells": [
  {
   "cell_type": "markdown",
   "metadata": {},
   "source": [
    "Experiement Sampling"
   ]
  },
  {
   "cell_type": "code",
   "execution_count": 4,
   "metadata": {},
   "outputs": [],
   "source": [
    "import pandas as pd\n",
    "import numpy as np\n",
    "import faker\n",
    "\n",
    "import scipy\n",
    "import scipy.stats as stats\n",
    "from scipy.spatial.distance import cdist\n",
    "import matplotlib.pyplot as plt\n",
    "from sklearn.covariance import EmpiricalCovariance, MinCovDet\n",
    "import matplotlib.pyplot as plt\n",
    "import math"
   ]
  },
  {
   "cell_type": "markdown",
   "metadata": {},
   "source": [
    "Fake case: \n",
    "\n",
    "Every customer service agent has a customer rating. To reduce customer complaints and improve rating, the company plans to roll out a X hour training. Before scaling up the program, the company would like to run an experiement to see whether the training helps reduce customer complaints. "
   ]
  },
  {
   "cell_type": "markdown",
   "metadata": {},
   "source": [
    "Step 1 Create a dummy sample data set"
   ]
  },
  {
   "cell_type": "code",
   "execution_count": 3,
   "metadata": {},
   "outputs": [
    {
     "data": {
      "text/html": [
       "<div>\n",
       "<style scoped>\n",
       "    .dataframe tbody tr th:only-of-type {\n",
       "        vertical-align: middle;\n",
       "    }\n",
       "\n",
       "    .dataframe tbody tr th {\n",
       "        vertical-align: top;\n",
       "    }\n",
       "\n",
       "    .dataframe thead th {\n",
       "        text-align: right;\n",
       "    }\n",
       "</style>\n",
       "<table border=\"1\" class=\"dataframe\">\n",
       "  <thead>\n",
       "    <tr style=\"text-align: right;\">\n",
       "      <th></th>\n",
       "      <th>Agent ID</th>\n",
       "      <th>Agent Name</th>\n",
       "      <th>Compliant Rate</th>\n",
       "      <th>Customer Calls</th>\n",
       "    </tr>\n",
       "  </thead>\n",
       "  <tbody>\n",
       "    <tr>\n",
       "      <th>0</th>\n",
       "      <td>1000</td>\n",
       "      <td>Amanda Callahan</td>\n",
       "      <td>0.014869</td>\n",
       "      <td>143</td>\n",
       "    </tr>\n",
       "    <tr>\n",
       "      <th>1</th>\n",
       "      <td>1001</td>\n",
       "      <td>Robert Blair</td>\n",
       "      <td>0.102528</td>\n",
       "      <td>1922</td>\n",
       "    </tr>\n",
       "    <tr>\n",
       "      <th>2</th>\n",
       "      <td>1002</td>\n",
       "      <td>Thomas Melendez</td>\n",
       "      <td>0.057462</td>\n",
       "      <td>784</td>\n",
       "    </tr>\n",
       "    <tr>\n",
       "      <th>3</th>\n",
       "      <td>1003</td>\n",
       "      <td>Devin Blackburn</td>\n",
       "      <td>0.491513</td>\n",
       "      <td>1106</td>\n",
       "    </tr>\n",
       "    <tr>\n",
       "      <th>4</th>\n",
       "      <td>1004</td>\n",
       "      <td>Sheila Moore</td>\n",
       "      <td>0.111153</td>\n",
       "      <td>1844</td>\n",
       "    </tr>\n",
       "  </tbody>\n",
       "</table>\n",
       "</div>"
      ],
      "text/plain": [
       "   Agent ID       Agent Name  Compliant Rate  Customer Calls\n",
       "0      1000  Amanda Callahan        0.014869             143\n",
       "1      1001     Robert Blair        0.102528            1922\n",
       "2      1002  Thomas Melendez        0.057462             784\n",
       "3      1003  Devin Blackburn        0.491513            1106\n",
       "4      1004     Sheila Moore        0.111153            1844"
      ]
     },
     "execution_count": 3,
     "metadata": {},
     "output_type": "execute_result"
    }
   ],
   "source": [
    "fake = faker.Faker()\n",
    "\n",
    "# function to create a dataframe with fake values for our workers\n",
    "def create_agents(num):\n",
    "    \n",
    "    state = [fake.state() for x in range(10)]\n",
    "\n",
    "    agents = [{'Agent ID': x + 1000,\n",
    "                  'Agent Name': fake.name(), \n",
    "                #   'Agent Tenure': int(np.random.uniform(0, 1000, 1)), \n",
    "                #   'State': np.random.choice(state),\n",
    "                  'Compliant Rate': np.random.rand() * 0.5, # complaint rate between 0 and 50%, uniform dist.\n",
    "                  'Customer Calls': int(np.random.uniform(0, 2000, 1)) # customer calls received between 0 and 2000, uniform dist.\n",
    "                  } for x in range(num)\n",
    "                ]\n",
    "        \n",
    "    return agents\n",
    "\n",
    "df_agent = pd.DataFrame(create_agents(num = 1000))\n",
    "df_agent.head()"
   ]
  },
  {
   "cell_type": "markdown",
   "metadata": {},
   "source": [
    "Design A/B Group based on Compliant Rate and Customer Calls"
   ]
  },
  {
   "cell_type": "code",
   "execution_count": 7,
   "metadata": {},
   "outputs": [
    {
     "name": "stdout",
     "output_type": "stream",
     "text": [
      "1000\n"
     ]
    }
   ],
   "source": [
    "def sampling(df):\n",
    "\t\n",
    "\t# calculate Mahalanobis Distance\n",
    "\tdef mashi_distance(x, y):\n",
    "\n",
    "\t\tX = np.vstack([x,y])\t\t\n",
    "\t\tXT = X.T\n",
    "\t\t\n",
    "\t\ttry:\n",
    "\t\t\tS = np.cov(X)\n",
    "\t\t\tSI = np.linalg.inv(S)\n",
    "\t\t\tn = XT.shape[0]\n",
    "\t\t\td1 = []\n",
    "\t\t\t\n",
    "\t\t\tfor i in range(0,n):\n",
    "\t\t\t\tfor j in range(i+1, n):\n",
    "\t\t\t\t\tdelta = XT[i] - XT[j]\n",
    "\t\t\t\t\td = np.sqrt(np.dot(np.dot(delta, SI), delta.T))\n",
    "\t\t\t\t\td1.append(d)\n",
    "\n",
    "\t\texcept:\n",
    "\t\t\td1 = [0]\n",
    "\t\t\n",
    "\t\treturn d1\n",
    "\t\t\t\t\t\n",
    "\tagent_cnt = len(df_agent.index)\n",
    "\tn1 = math.floor(agent_cnt / 2)\n",
    "\tn2 = n1\t\n",
    "\t\n",
    "\tcount = 0\n",
    "\tdistance1 = [3]\n",
    "\tdistance2 = [3]\n",
    "\t\n",
    "\twhile count < 1000:\n",
    "\t\tif sum(distance1) / len(distance1) < 1.5 and sum(distance2) / len(distance2) < 1.5:\n",
    "\t\t\tbreak\n",
    "\t\telse:\n",
    "\t\t\tcount = count + 1\n",
    "\t\t\tdf1 = df.sample(n = n1)\n",
    "\t\t\tdf2 = df[~df.index.isin(df1.index)]\n",
    "\t\t\tdf2 = df2.sample(n = n2)\n",
    "\t\t\t\n",
    "\t\t\tx_list1 = df1['Compliant Rate'].to_list()\n",
    "\t\t\ty_list1 = df2['Compliant Rate'].to_list()\n",
    "\t\t\n",
    "\t\t\tx_list2 = df1['Customer Calls'].to_list()\n",
    "\t\t\ty_list2 = df2['Customer Calls'].to_list()\n",
    "\t\t\t\n",
    "\t\t\tdistance1 = mashi_distance(x_list1, y_list1)\n",
    "\t\t\tdistance2 = mashi_distance(x_list2, y_list2)\n",
    "\t   \n",
    "\tprint(count)\n",
    "\t\n",
    "\treturn df1, df2\n",
    "\n",
    "df_treatment = pd.DataFrame()\n",
    "df_control = pd.DataFrame()\n",
    "df_treatment, df_control = sampling(df_agent)\n"
   ]
  },
  {
   "cell_type": "code",
   "execution_count": 17,
   "metadata": {},
   "outputs": [
    {
     "name": "stdout",
     "output_type": "stream",
     "text": [
      "Mean of treatment group: 0.2410562163425962\n",
      "Mean of treatment group: 0.26461695172579563\n",
      "Mean of control group: 975.094\n",
      "Mean of control group: 993.424\n"
     ]
    }
   ],
   "source": [
    "print(\"Mean of treatment group:\", df_treatment['Compliant Rate'].mean())\n",
    "print(\"Mean of treatment group:\", df_control['Compliant Rate'].mean())\n",
    "\n",
    "print(\"Mean of control group:\", df_treatment['Customer Calls'].mean())\n",
    "print(\"Mean of control group:\", df_control['Customer Calls'].mean())"
   ]
  },
  {
   "cell_type": "code",
   "execution_count": null,
   "metadata": {},
   "outputs": [],
   "source": [
    "df_treatment['Group'] = 'Treatment'\n",
    "df_control['Group'] = 'Control'\n",
    "df_AB = pd.concat([df_treatment, df_control])"
   ]
  },
  {
   "cell_type": "code",
   "execution_count": 31,
   "metadata": {},
   "outputs": [
    {
     "data": {
      "text/html": [
       "<div>\n",
       "<style scoped>\n",
       "    .dataframe tbody tr th:only-of-type {\n",
       "        vertical-align: middle;\n",
       "    }\n",
       "\n",
       "    .dataframe tbody tr th {\n",
       "        vertical-align: top;\n",
       "    }\n",
       "\n",
       "    .dataframe thead th {\n",
       "        text-align: right;\n",
       "    }\n",
       "</style>\n",
       "<table border=\"1\" class=\"dataframe\">\n",
       "  <thead>\n",
       "    <tr style=\"text-align: right;\">\n",
       "      <th></th>\n",
       "      <th>count</th>\n",
       "      <th>mean</th>\n",
       "      <th>std</th>\n",
       "      <th>min</th>\n",
       "      <th>25%</th>\n",
       "      <th>50%</th>\n",
       "      <th>75%</th>\n",
       "      <th>max</th>\n",
       "    </tr>\n",
       "    <tr>\n",
       "      <th>Group</th>\n",
       "      <th></th>\n",
       "      <th></th>\n",
       "      <th></th>\n",
       "      <th></th>\n",
       "      <th></th>\n",
       "      <th></th>\n",
       "      <th></th>\n",
       "      <th></th>\n",
       "    </tr>\n",
       "  </thead>\n",
       "  <tbody>\n",
       "    <tr>\n",
       "      <th>Control</th>\n",
       "      <td>500.0</td>\n",
       "      <td>0.264617</td>\n",
       "      <td>0.145624</td>\n",
       "      <td>0.000912</td>\n",
       "      <td>0.137370</td>\n",
       "      <td>0.276133</td>\n",
       "      <td>0.396895</td>\n",
       "      <td>0.49987</td>\n",
       "    </tr>\n",
       "    <tr>\n",
       "      <th>Treatment</th>\n",
       "      <td>500.0</td>\n",
       "      <td>0.241056</td>\n",
       "      <td>0.147065</td>\n",
       "      <td>0.002813</td>\n",
       "      <td>0.108638</td>\n",
       "      <td>0.249636</td>\n",
       "      <td>0.361601</td>\n",
       "      <td>0.49944</td>\n",
       "    </tr>\n",
       "  </tbody>\n",
       "</table>\n",
       "</div>"
      ],
      "text/plain": [
       "           count      mean       std       min       25%       50%       75%  \\\n",
       "Group                                                                          \n",
       "Control    500.0  0.264617  0.145624  0.000912  0.137370  0.276133  0.396895   \n",
       "Treatment  500.0  0.241056  0.147065  0.002813  0.108638  0.249636  0.361601   \n",
       "\n",
       "               max  \n",
       "Group               \n",
       "Control    0.49987  \n",
       "Treatment  0.49944  "
      ]
     },
     "execution_count": 31,
     "metadata": {},
     "output_type": "execute_result"
    }
   ],
   "source": [
    "df_AB.groupby('Group')['Compliant Rate'].describe()"
   ]
  },
  {
   "cell_type": "code",
   "execution_count": 32,
   "metadata": {},
   "outputs": [
    {
     "data": {
      "text/html": [
       "<div>\n",
       "<style scoped>\n",
       "    .dataframe tbody tr th:only-of-type {\n",
       "        vertical-align: middle;\n",
       "    }\n",
       "\n",
       "    .dataframe tbody tr th {\n",
       "        vertical-align: top;\n",
       "    }\n",
       "\n",
       "    .dataframe thead th {\n",
       "        text-align: right;\n",
       "    }\n",
       "</style>\n",
       "<table border=\"1\" class=\"dataframe\">\n",
       "  <thead>\n",
       "    <tr style=\"text-align: right;\">\n",
       "      <th></th>\n",
       "      <th>count</th>\n",
       "      <th>mean</th>\n",
       "      <th>std</th>\n",
       "      <th>min</th>\n",
       "      <th>25%</th>\n",
       "      <th>50%</th>\n",
       "      <th>75%</th>\n",
       "      <th>max</th>\n",
       "    </tr>\n",
       "    <tr>\n",
       "      <th>Group</th>\n",
       "      <th></th>\n",
       "      <th></th>\n",
       "      <th></th>\n",
       "      <th></th>\n",
       "      <th></th>\n",
       "      <th></th>\n",
       "      <th></th>\n",
       "      <th></th>\n",
       "    </tr>\n",
       "  </thead>\n",
       "  <tbody>\n",
       "    <tr>\n",
       "      <th>Control</th>\n",
       "      <td>500.0</td>\n",
       "      <td>993.424</td>\n",
       "      <td>563.777167</td>\n",
       "      <td>6.0</td>\n",
       "      <td>503.75</td>\n",
       "      <td>978.0</td>\n",
       "      <td>1476.25</td>\n",
       "      <td>1999.0</td>\n",
       "    </tr>\n",
       "    <tr>\n",
       "      <th>Treatment</th>\n",
       "      <td>500.0</td>\n",
       "      <td>975.094</td>\n",
       "      <td>561.488482</td>\n",
       "      <td>2.0</td>\n",
       "      <td>469.75</td>\n",
       "      <td>990.0</td>\n",
       "      <td>1435.00</td>\n",
       "      <td>1993.0</td>\n",
       "    </tr>\n",
       "  </tbody>\n",
       "</table>\n",
       "</div>"
      ],
      "text/plain": [
       "           count     mean         std  min     25%    50%      75%     max\n",
       "Group                                                                     \n",
       "Control    500.0  993.424  563.777167  6.0  503.75  978.0  1476.25  1999.0\n",
       "Treatment  500.0  975.094  561.488482  2.0  469.75  990.0  1435.00  1993.0"
      ]
     },
     "execution_count": 32,
     "metadata": {},
     "output_type": "execute_result"
    }
   ],
   "source": [
    "df_AB.groupby('Group')['Customer Calls'].describe()"
   ]
  },
  {
   "cell_type": "code",
   "execution_count": 33,
   "metadata": {},
   "outputs": [
    {
     "data": {
      "text/plain": [
       "Group\n",
       "Control      (0.9466129541397095, 1.925934021637654e-12)\n",
       "Treatment    (0.9479154348373413, 2.927379909659078e-12)\n",
       "Name: Compliant Rate, dtype: object"
      ]
     },
     "execution_count": 33,
     "metadata": {},
     "output_type": "execute_result"
    }
   ],
   "source": [
    "# check normality using Shapiro-Wilks test\n",
    "df_AB.groupby('Group')['Compliant Rate'].apply(stats.shapiro)"
   ]
  },
  {
   "cell_type": "code",
   "execution_count": 34,
   "metadata": {},
   "outputs": [
    {
     "data": {
      "text/plain": [
       "Group\n",
       "Control      (0.9560896754264832, 4.8114758705031235e-11)\n",
       "Treatment     (0.9578869342803955, 9.310815313190446e-11)\n",
       "Name: Customer Calls, dtype: object"
      ]
     },
     "execution_count": 34,
     "metadata": {},
     "output_type": "execute_result"
    }
   ],
   "source": [
    "df_AB.groupby('Group')['Customer Calls'].apply(stats.shapiro)"
   ]
  },
  {
   "cell_type": "code",
   "execution_count": 43,
   "metadata": {},
   "outputs": [
    {
     "data": {
      "text/plain": [
       "array([<matplotlib.axes._subplots.AxesSubplot object at 0x000001D196B6A630>,\n",
       "       <matplotlib.axes._subplots.AxesSubplot object at 0x000001D197C41B38>],\n",
       "      dtype=object)"
      ]
     },
     "execution_count": 43,
     "metadata": {},
     "output_type": "execute_result"
    },
    {
     "data": {
      "image/png": "[encoded data removed]",
      "text/plain": [
       "<Figure size 720x288 with 2 Axes>"
      ]
     },
     "metadata": {
      "needs_background": "light"
     },
     "output_type": "display_data"
    },
    {
     "data": {
      "image/png": "[encoded data removed]",
      "text/plain": [
       "<Figure size 720x288 with 2 Axes>"
      ]
     },
     "metadata": {
      "needs_background": "light"
     },
     "output_type": "display_data"
    }
   ],
   "source": [
    "df_AB.hist(by='Group',column='Compliant Rate', figsize=[10, 4])\n",
    "df_AB.hist(by='Group',column='Customer Calls', figsize=[10, 4])"
   ]
  },
  {
   "cell_type": "code",
   "execution_count": 46,
   "metadata": {},
   "outputs": [
    {
     "data": {
      "text/plain": [
       "LeveneResult(statistic=0.011068781195340462, pvalue=0.9162316852269224)"
      ]
     },
     "execution_count": 46,
     "metadata": {},
     "output_type": "execute_result"
    }
   ],
   "source": [
    "stats.levene(df_treatment['Compliant Rate'], df_control['Compliant Rate'])"
   ]
  },
  {
   "cell_type": "code",
   "execution_count": 26,
   "metadata": {},
   "outputs": [
    {
     "data": {
      "text/plain": [
       "Ttest_indResult(statistic=-2.5455237083338353, pvalue=0.011060860430095618)"
      ]
     },
     "execution_count": 26,
     "metadata": {},
     "output_type": "execute_result"
    }
   ],
   "source": [
    "scipy.stats.ttest_ind(df_treatment['Compliant Rate'].to_list(), df_control['Compliant Rate'].to_list(), axis=0, equal_var=True, nan_policy='propagate')"
   ]
  }
 ],
 "metadata": {
  "kernelspec": {
   "display_name": "Python 3.7.3 ('base')",
   "language": "python",
   "name": "python3"
  },
  "language_info": {
   "codemirror_mode": {
    "name": "ipython",
    "version": 3
   },
   "file_extension": ".py",
   "mimetype": "text/x-python",
   "name": "python",
   "nbconvert_exporter": "python",
   "pygments_lexer": "ipython3",
   "version": "3.7.3"
  },
  "orig_nbformat": 4,
  "vscode": {
   "interpreter": {
    "hash": "b0c0756498af6d4efb4041862dc390b7bc6cbd952a93da867cbbb16b14c2a97c"
   }
  }
 },
 "nbformat": 4,
 "nbformat_minor": 2
}
