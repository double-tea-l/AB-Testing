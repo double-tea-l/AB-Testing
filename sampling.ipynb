{
 "cells": [
  {
   "cell_type": "markdown",
   "metadata": {},
   "source": [
    "Experiement Sampling"
   ]
  },
  {
   "cell_type": "code",
   "execution_count": 4,
   "metadata": {},
   "outputs": [],
   "source": [
    "import pandas as pd\n",
    "import numpy as np\n",
    "import faker\n",
    "\n",
    "import scipy\n",
    "import scipy.stats as stats\n",
    "from scipy.spatial.distance import cdist\n",
    "import matplotlib.pyplot as plt\n",
    "from sklearn.covariance import EmpiricalCovariance, MinCovDet\n",
    "import matplotlib.pyplot as plt\n",
    "import math\n",
    "\n",
    "import researchpy as rp"
   ]
  },
  {
   "cell_type": "markdown",
   "metadata": {},
   "source": [
    "Fake case: \n",
    "\n",
    "Every customer service agent has a customer rating. To reduce customer complaints and improve rating, the company plans to roll out a X hour training. Before scaling up the program, the company would like to run an experiement to see whether the training helps reduce customer complaints. "
   ]
  },
  {
   "cell_type": "markdown",
   "metadata": {},
   "source": [
    "Step 1 Create a dummy sample data set"
   ]
  },
  {
   "cell_type": "code",
   "execution_count": 98,
   "metadata": {},
   "outputs": [
    {
     "data": {
      "text/html": [
       "<div>\n",
       "<style scoped>\n",
       "    .dataframe tbody tr th:only-of-type {\n",
       "        vertical-align: middle;\n",
       "    }\n",
       "\n",
       "    .dataframe tbody tr th {\n",
       "        vertical-align: top;\n",
       "    }\n",
       "\n",
       "    .dataframe thead th {\n",
       "        text-align: right;\n",
       "    }\n",
       "</style>\n",
       "<table border=\"1\" class=\"dataframe\">\n",
       "  <thead>\n",
       "    <tr style=\"text-align: right;\">\n",
       "      <th></th>\n",
       "      <th>Agent ID</th>\n",
       "      <th>Agent Name</th>\n",
       "      <th>Compliant Rate</th>\n",
       "      <th>Customer Calls</th>\n",
       "    </tr>\n",
       "  </thead>\n",
       "  <tbody>\n",
       "    <tr>\n",
       "      <th>0</th>\n",
       "      <td>1000</td>\n",
       "      <td>Michael Bridges</td>\n",
       "      <td>0.296704</td>\n",
       "      <td>116</td>\n",
       "    </tr>\n",
       "    <tr>\n",
       "      <th>1</th>\n",
       "      <td>1001</td>\n",
       "      <td>Jessica Burton MD</td>\n",
       "      <td>0.270237</td>\n",
       "      <td>484</td>\n",
       "    </tr>\n",
       "    <tr>\n",
       "      <th>2</th>\n",
       "      <td>1002</td>\n",
       "      <td>Cody Warner</td>\n",
       "      <td>0.254551</td>\n",
       "      <td>420</td>\n",
       "    </tr>\n",
       "    <tr>\n",
       "      <th>3</th>\n",
       "      <td>1003</td>\n",
       "      <td>Melinda Fischer</td>\n",
       "      <td>0.460734</td>\n",
       "      <td>910</td>\n",
       "    </tr>\n",
       "    <tr>\n",
       "      <th>4</th>\n",
       "      <td>1004</td>\n",
       "      <td>Kevin Scott</td>\n",
       "      <td>0.479920</td>\n",
       "      <td>1939</td>\n",
       "    </tr>\n",
       "  </tbody>\n",
       "</table>\n",
       "</div>"
      ],
      "text/plain": [
       "   Agent ID         Agent Name  Compliant Rate  Customer Calls\n",
       "0      1000    Michael Bridges        0.296704             116\n",
       "1      1001  Jessica Burton MD        0.270237             484\n",
       "2      1002        Cody Warner        0.254551             420\n",
       "3      1003    Melinda Fischer        0.460734             910\n",
       "4      1004        Kevin Scott        0.479920            1939"
      ]
     },
     "execution_count": 98,
     "metadata": {},
     "output_type": "execute_result"
    }
   ],
   "source": [
    "fake = faker.Faker()\n",
    "\n",
    "# function to create a dataframe with fake values for our workers\n",
    "def create_agents(num):\n",
    "    \n",
    "    state = [fake.state() for x in range(10)]\n",
    "\n",
    "    agents = [{'Agent ID': x + 1000,\n",
    "                  'Agent Name': fake.name(), \n",
    "                #   'Agent Tenure': int(np.random.uniform(0, 1000, 1)), \n",
    "                #   'State': np.random.choice(state),\n",
    "                  'Compliant Rate': float(np.random.uniform(0,0.5,1)), # complaint rate between 0 and 50%, uniform dist.\n",
    "                  'Customer Calls': int(np.random.uniform(0, 2000, 1)) # customer calls received between 0 and 2000, uniform dist.\n",
    "                  } for x in range(num)\n",
    "                ]\n",
    "        \n",
    "    return agents\n",
    "\n",
    "df_agent = pd.DataFrame(create_agents(num = 1000))\n",
    "df_agent.head()"
   ]
  },
  {
   "cell_type": "markdown",
   "metadata": {},
   "source": [
    "Design A/B Group based on Compliant Rate and Customer Calls"
   ]
  },
  {
   "cell_type": "code",
   "execution_count": 99,
   "metadata": {},
   "outputs": [
    {
     "name": "stdout",
     "output_type": "stream",
     "text": [
      "100\n"
     ]
    }
   ],
   "source": [
    "def sampling(df):\n",
    "\t\n",
    "\t# calculate Mahalanobis Distance\n",
    "\tdef mashi_distance(x, y):\n",
    "\n",
    "\t\tX = np.vstack([x,y])\t\t\n",
    "\t\tXT = X.T\n",
    "\t\t\n",
    "\t\ttry:\n",
    "\t\t\tS = np.cov(X)\n",
    "\t\t\tSI = np.linalg.inv(S)\n",
    "\t\t\tn = XT.shape[0]\n",
    "\t\t\td1 = []\n",
    "\t\t\t\n",
    "\t\t\tfor i in range(0,n):\n",
    "\t\t\t\tfor j in range(i+1, n):\n",
    "\t\t\t\t\tdelta = XT[i] - XT[j]\n",
    "\t\t\t\t\td = np.sqrt(np.dot(np.dot(delta, SI), delta.T))\n",
    "\t\t\t\t\td1.append(d)\n",
    "\n",
    "\t\texcept:\n",
    "\t\t\td1 = [0]\n",
    "\t\t\n",
    "\t\treturn d1\n",
    "\t\t\t\t\t\n",
    "\tagent_cnt = len(df_agent.index)\n",
    "\tn1 = math.floor(agent_cnt / 2)\n",
    "\tn2 = n1\t\n",
    "\t\n",
    "\tcount = 0\n",
    "\tdistance1 = [3]\n",
    "\tdistance2 = [3]\n",
    "\t\n",
    "\twhile count < 100:\n",
    "\t\tif sum(distance1) / len(distance1) < 1.5 and sum(distance2) / len(distance2) < 1.5:\n",
    "\t\t\tbreak\n",
    "\t\telse:\n",
    "\t\t\tcount = count + 1\n",
    "\t\t\tdf1 = df.sample(n = n1)\n",
    "\t\t\tdf2 = df[~df.index.isin(df1.index)]\n",
    "\t\t\tdf2 = df2.sample(n = n2)\n",
    "\t\t\t\n",
    "\t\t\tx_list1 = df1['Compliant Rate'].to_list()\n",
    "\t\t\ty_list1 = df2['Compliant Rate'].to_list()\n",
    "\t\t\n",
    "\t\t\tx_list2 = df1['Customer Calls'].to_list()\n",
    "\t\t\ty_list2 = df2['Customer Calls'].to_list()\n",
    "\t\t\t\n",
    "\t\t\tdistance1 = mashi_distance(x_list1, y_list1)\n",
    "\t\t\tdistance2 = mashi_distance(x_list2, y_list2)\n",
    "\t   \n",
    "\tprint(count)\n",
    "\t\n",
    "\treturn df1, df2\n",
    "\n",
    "df_treatment = pd.DataFrame()\n",
    "df_control = pd.DataFrame()\n",
    "df_treatment, df_control = sampling(df_agent)\n"
   ]
  },
  {
   "cell_type": "code",
   "execution_count": 114,
   "metadata": {},
   "outputs": [],
   "source": [
    "df_treatment.reset_index(drop = True, inplace = True)\n",
    "df_control.reset_index(drop = True, inplace = True)\n",
    "df_treatment['Group'] = 'Treatment'\n",
    "df_control['Group'] = 'Control'\n",
    "df_AB = pd.concat([df_treatment, df_control])"
   ]
  },
  {
   "cell_type": "code",
   "execution_count": 113,
   "metadata": {},
   "outputs": [],
   "source": [
    "df_treatment.sort_values(by = 'Compliant Rate', ascending = True, inplace = True)\n",
    "df_control.sort_values(by = 'Compliant Rate', ascending = True, inplace = True)"
   ]
  },
  {
   "cell_type": "code",
   "execution_count": 101,
   "metadata": {},
   "outputs": [
    {
     "data": {
      "text/html": [
       "<div>\n",
       "<style scoped>\n",
       "    .dataframe tbody tr th:only-of-type {\n",
       "        vertical-align: middle;\n",
       "    }\n",
       "\n",
       "    .dataframe tbody tr th {\n",
       "        vertical-align: top;\n",
       "    }\n",
       "\n",
       "    .dataframe thead th {\n",
       "        text-align: right;\n",
       "    }\n",
       "</style>\n",
       "<table border=\"1\" class=\"dataframe\">\n",
       "  <thead>\n",
       "    <tr style=\"text-align: right;\">\n",
       "      <th></th>\n",
       "      <th>count</th>\n",
       "      <th>mean</th>\n",
       "      <th>std</th>\n",
       "      <th>min</th>\n",
       "      <th>25%</th>\n",
       "      <th>50%</th>\n",
       "      <th>75%</th>\n",
       "      <th>max</th>\n",
       "    </tr>\n",
       "    <tr>\n",
       "      <th>Group</th>\n",
       "      <th></th>\n",
       "      <th></th>\n",
       "      <th></th>\n",
       "      <th></th>\n",
       "      <th></th>\n",
       "      <th></th>\n",
       "      <th></th>\n",
       "      <th></th>\n",
       "    </tr>\n",
       "  </thead>\n",
       "  <tbody>\n",
       "    <tr>\n",
       "      <th>Control</th>\n",
       "      <td>500.0</td>\n",
       "      <td>0.257735</td>\n",
       "      <td>0.140889</td>\n",
       "      <td>0.000732</td>\n",
       "      <td>0.139091</td>\n",
       "      <td>0.251186</td>\n",
       "      <td>0.379196</td>\n",
       "      <td>0.498896</td>\n",
       "    </tr>\n",
       "    <tr>\n",
       "      <th>Treatment</th>\n",
       "      <td>500.0</td>\n",
       "      <td>0.254600</td>\n",
       "      <td>0.141401</td>\n",
       "      <td>0.000830</td>\n",
       "      <td>0.132990</td>\n",
       "      <td>0.258347</td>\n",
       "      <td>0.370866</td>\n",
       "      <td>0.499110</td>\n",
       "    </tr>\n",
       "  </tbody>\n",
       "</table>\n",
       "</div>"
      ],
      "text/plain": [
       "           count      mean       std       min       25%       50%       75%  \\\n",
       "Group                                                                          \n",
       "Control    500.0  0.257735  0.140889  0.000732  0.139091  0.251186  0.379196   \n",
       "Treatment  500.0  0.254600  0.141401  0.000830  0.132990  0.258347  0.370866   \n",
       "\n",
       "                max  \n",
       "Group                \n",
       "Control    0.498896  \n",
       "Treatment  0.499110  "
      ]
     },
     "execution_count": 101,
     "metadata": {},
     "output_type": "execute_result"
    }
   ],
   "source": [
    "df_AB.groupby('Group')['Compliant Rate'].describe()"
   ]
  },
  {
   "cell_type": "code",
   "execution_count": 102,
   "metadata": {},
   "outputs": [
    {
     "data": {
      "text/html": [
       "<div>\n",
       "<style scoped>\n",
       "    .dataframe tbody tr th:only-of-type {\n",
       "        vertical-align: middle;\n",
       "    }\n",
       "\n",
       "    .dataframe tbody tr th {\n",
       "        vertical-align: top;\n",
       "    }\n",
       "\n",
       "    .dataframe thead th {\n",
       "        text-align: right;\n",
       "    }\n",
       "</style>\n",
       "<table border=\"1\" class=\"dataframe\">\n",
       "  <thead>\n",
       "    <tr style=\"text-align: right;\">\n",
       "      <th></th>\n",
       "      <th>count</th>\n",
       "      <th>mean</th>\n",
       "      <th>std</th>\n",
       "      <th>min</th>\n",
       "      <th>25%</th>\n",
       "      <th>50%</th>\n",
       "      <th>75%</th>\n",
       "      <th>max</th>\n",
       "    </tr>\n",
       "    <tr>\n",
       "      <th>Group</th>\n",
       "      <th></th>\n",
       "      <th></th>\n",
       "      <th></th>\n",
       "      <th></th>\n",
       "      <th></th>\n",
       "      <th></th>\n",
       "      <th></th>\n",
       "      <th></th>\n",
       "    </tr>\n",
       "  </thead>\n",
       "  <tbody>\n",
       "    <tr>\n",
       "      <th>Control</th>\n",
       "      <td>500.0</td>\n",
       "      <td>996.548</td>\n",
       "      <td>602.216301</td>\n",
       "      <td>1.0</td>\n",
       "      <td>427.50</td>\n",
       "      <td>1020.5</td>\n",
       "      <td>1535.50</td>\n",
       "      <td>1999.0</td>\n",
       "    </tr>\n",
       "    <tr>\n",
       "      <th>Treatment</th>\n",
       "      <td>500.0</td>\n",
       "      <td>975.122</td>\n",
       "      <td>579.293332</td>\n",
       "      <td>4.0</td>\n",
       "      <td>485.75</td>\n",
       "      <td>960.5</td>\n",
       "      <td>1473.25</td>\n",
       "      <td>1999.0</td>\n",
       "    </tr>\n",
       "  </tbody>\n",
       "</table>\n",
       "</div>"
      ],
      "text/plain": [
       "           count     mean         std  min     25%     50%      75%     max\n",
       "Group                                                                      \n",
       "Control    500.0  996.548  602.216301  1.0  427.50  1020.5  1535.50  1999.0\n",
       "Treatment  500.0  975.122  579.293332  4.0  485.75   960.5  1473.25  1999.0"
      ]
     },
     "execution_count": 102,
     "metadata": {},
     "output_type": "execute_result"
    }
   ],
   "source": [
    "df_AB.groupby('Group')['Customer Calls'].describe()"
   ]
  },
  {
   "cell_type": "code",
   "execution_count": 103,
   "metadata": {},
   "outputs": [
    {
     "name": "stdout",
     "output_type": "stream",
     "text": [
      "\n",
      "\n",
      "\n",
      "\n"
     ]
    },
    {
     "data": {
      "text/html": [
       "<div>\n",
       "<style scoped>\n",
       "    .dataframe tbody tr th:only-of-type {\n",
       "        vertical-align: middle;\n",
       "    }\n",
       "\n",
       "    .dataframe tbody tr th {\n",
       "        vertical-align: top;\n",
       "    }\n",
       "\n",
       "    .dataframe thead th {\n",
       "        text-align: right;\n",
       "    }\n",
       "</style>\n",
       "<table border=\"1\" class=\"dataframe\">\n",
       "  <thead>\n",
       "    <tr style=\"text-align: right;\">\n",
       "      <th></th>\n",
       "      <th></th>\n",
       "      <th>Variable</th>\n",
       "      <th>N</th>\n",
       "      <th>Mean</th>\n",
       "      <th>SD</th>\n",
       "      <th>SE</th>\n",
       "      <th>95% Conf.</th>\n",
       "      <th>Interval</th>\n",
       "    </tr>\n",
       "    <tr>\n",
       "      <th>Group</th>\n",
       "      <th></th>\n",
       "      <th></th>\n",
       "      <th></th>\n",
       "      <th></th>\n",
       "      <th></th>\n",
       "      <th></th>\n",
       "      <th></th>\n",
       "      <th></th>\n",
       "    </tr>\n",
       "  </thead>\n",
       "  <tbody>\n",
       "    <tr>\n",
       "      <th>Control</th>\n",
       "      <th>0</th>\n",
       "      <td>Control</td>\n",
       "      <td>500.0</td>\n",
       "      <td>0.2577</td>\n",
       "      <td>0.1409</td>\n",
       "      <td>0.0063</td>\n",
       "      <td>0.2454</td>\n",
       "      <td>0.2701</td>\n",
       "    </tr>\n",
       "    <tr>\n",
       "      <th>Treatment</th>\n",
       "      <th>0</th>\n",
       "      <td>Treatment</td>\n",
       "      <td>500.0</td>\n",
       "      <td>0.2546</td>\n",
       "      <td>0.1414</td>\n",
       "      <td>0.0063</td>\n",
       "      <td>0.2422</td>\n",
       "      <td>0.2670</td>\n",
       "    </tr>\n",
       "  </tbody>\n",
       "</table>\n",
       "</div>"
      ],
      "text/plain": [
       "              Variable      N    Mean      SD      SE  95% Conf.  Interval\n",
       "Group                                                                     \n",
       "Control   0    Control  500.0  0.2577  0.1409  0.0063     0.2454    0.2701\n",
       "Treatment 0  Treatment  500.0  0.2546  0.1414  0.0063     0.2422    0.2670"
      ]
     },
     "execution_count": 103,
     "metadata": {},
     "output_type": "execute_result"
    }
   ],
   "source": [
    "df_AB.groupby('Group')['Compliant Rate'].apply(rp.summary_cont)"
   ]
  },
  {
   "cell_type": "markdown",
   "metadata": {},
   "source": [
    "Check Normality"
   ]
  },
  {
   "cell_type": "code",
   "execution_count": 115,
   "metadata": {},
   "outputs": [
    {
     "data": {
      "image/png": "[encoded data removed]",
      "text/plain": [
       "<Figure size 864x432 with 1 Axes>"
      ]
     },
     "metadata": {
      "needs_background": "light"
     },
     "output_type": "display_data"
    }
   ],
   "source": [
    "sampling_difference = df_treatment['Compliant Rate'].values - \\\n",
    "                    df_control['Compliant Rate'].values\n",
    "\n",
    "# sampling_difference2 = df_treatment['Compliant Rate (Log)'].values - \\\n",
    "#                     df_control['Compliant Rate (Log)'].values\n",
    "\n",
    "fig = plt.figure(figsize= (12, 6))\n",
    "ax = fig.add_subplot(111)\n",
    "\n",
    "normality_plot, stat = stats.probplot(sampling_difference, plot= plt, rvalue= True)\n",
    "ax.set_title(\"Probability plot of sampling difference\", fontsize= 20)\n",
    "ax.set\n",
    "\n",
    "plt.show()"
   ]
  },
  {
   "cell_type": "code",
   "execution_count": 116,
   "metadata": {},
   "outputs": [
    {
     "data": {
      "text/plain": [
       "(0.9818898439407349, 7.004032340773847e-06)"
      ]
     },
     "execution_count": 116,
     "metadata": {},
     "output_type": "execute_result"
    }
   ],
   "source": [
    "stats.shapiro(sampling_difference) # data is non normal since p value < 0.05"
   ]
  },
  {
   "cell_type": "code",
   "execution_count": 117,
   "metadata": {},
   "outputs": [
    {
     "data": {
      "text/plain": [
       "NormaltestResult(statistic=0.13535414697201242, pvalue=0.9345622197734095)"
      ]
     },
     "execution_count": 117,
     "metadata": {},
     "output_type": "execute_result"
    }
   ],
   "source": [
    "stats.normaltest(sampling_difference)"
   ]
  },
  {
   "cell_type": "code",
   "execution_count": 118,
   "metadata": {},
   "outputs": [
    {
     "data": {
      "text/plain": [
       "Ks_2sampResult(statistic=0.03600000000000003, pvalue=0.8969819972425297)"
      ]
     },
     "execution_count": 118,
     "metadata": {},
     "output_type": "execute_result"
    }
   ],
   "source": [
    "stats.ks_2samp(df_treatment['Compliant Rate'], df_control['Compliant Rate'])"
   ]
  },
  {
   "cell_type": "code",
   "execution_count": 91,
   "metadata": {},
   "outputs": [],
   "source": [
    "# transform data\n",
    "df_treatment['Compliant Rate (Log)'] = np.sqrt(df_treatment['Compliant Rate'])\n",
    "df_control['Compliant Rate (Log)'] = np.sqrt(df_control['Compliant Rate'])\n",
    "df_AB['Compliant Rate (Log)'] = np.sqrt(df_AB['Compliant Rate'])"
   ]
  },
  {
   "cell_type": "code",
   "execution_count": 92,
   "metadata": {},
   "outputs": [
    {
     "data": {
      "text/plain": [
       "Ks_2sampResult(statistic=0.1100000000000001, pvalue=0.004277444915243255)"
      ]
     },
     "execution_count": 92,
     "metadata": {},
     "output_type": "execute_result"
    }
   ],
   "source": [
    "stats.ks_2samp(df_treatment['Compliant Rate (Log)'], df_control['Compliant Rate (Log)'])"
   ]
  },
  {
   "cell_type": "markdown",
   "metadata": {},
   "source": [
    "HOMOGENEITY OF VARIANCES"
   ]
  },
  {
   "cell_type": "code",
   "execution_count": 119,
   "metadata": {},
   "outputs": [
    {
     "data": {
      "text/plain": [
       "LeveneResult(statistic=0.014140321276582749, pvalue=0.9053681471756329)"
      ]
     },
     "execution_count": 119,
     "metadata": {},
     "output_type": "execute_result"
    }
   ],
   "source": [
    "stats.levene(df_treatment['Compliant Rate'], df_control['Compliant Rate'])"
   ]
  },
  {
   "cell_type": "code",
   "execution_count": 120,
   "metadata": {},
   "outputs": [
    {
     "data": {
      "text/plain": [
       "array([<matplotlib.axes._subplots.AxesSubplot object at 0x000001D199D467F0>,\n",
       "       <matplotlib.axes._subplots.AxesSubplot object at 0x000001D199F5BCF8>],\n",
       "      dtype=object)"
      ]
     },
     "execution_count": 120,
     "metadata": {},
     "output_type": "execute_result"
    },
    {
     "data": {
      "image/png": "[encoded data removed]",
      "text/plain": [
       "<Figure size 720x288 with 2 Axes>"
      ]
     },
     "metadata": {
      "needs_background": "light"
     },
     "output_type": "display_data"
    },
    {
     "data": {
      "image/png": "[encoded data removed]",
      "text/plain": [
       "<Figure size 720x288 with 2 Axes>"
      ]
     },
     "metadata": {
      "needs_background": "light"
     },
     "output_type": "display_data"
    }
   ],
   "source": [
    "df_AB.hist(by='Group',column='Compliant Rate', figsize=[10, 4])\n",
    "df_AB.hist(by='Group',column='Customer Calls', figsize=[10, 4])"
   ]
  },
  {
   "cell_type": "code",
   "execution_count": 121,
   "metadata": {},
   "outputs": [
    {
     "data": {
      "text/plain": [
       "Ttest_indResult(statistic=-0.3511547655823801, pvalue=0.7255463595369571)"
      ]
     },
     "execution_count": 121,
     "metadata": {},
     "output_type": "execute_result"
    }
   ],
   "source": [
    "scipy.stats.ttest_ind(df_treatment['Compliant Rate'], df_control['Compliant Rate'])"
   ]
  },
  {
   "cell_type": "code",
   "execution_count": 122,
   "metadata": {},
   "outputs": [
    {
     "data": {
      "text/plain": [
       "BartlettResult(statistic=0.006539613283687296, pvalue=0.9355470279233566)"
      ]
     },
     "execution_count": 122,
     "metadata": {},
     "output_type": "execute_result"
    }
   ],
   "source": [
    "stats.bartlett(df_treatment['Compliant Rate'],\n",
    "               df_control['Compliant Rate'])"
   ]
  },
  {
   "cell_type": "code",
   "execution_count": 123,
   "metadata": {},
   "outputs": [
    {
     "data": {
      "text/plain": [
       "(    Variable       N      Mean        SD        SE  95% Conf.  Interval\n",
       " 0  Treatment   500.0  0.254600  0.141401  0.006324   0.242176  0.267025\n",
       " 1    Control   500.0  0.257735  0.140889  0.006301   0.245356  0.270114\n",
       " 2   combined  1000.0  0.256168  0.141083  0.004461   0.247413  0.264923,\n",
       "                     Independent t-test   results\n",
       " 0  Difference (Treatment - Control) =    -0.0031\n",
       " 1                Degrees of freedom =   998.0000\n",
       " 2                                 t =    -0.3512\n",
       " 3             Two side test p value =     0.7255\n",
       " 4            Difference < 0 p value =     0.3628\n",
       " 5            Difference > 0 p value =     0.6372\n",
       " 6                         Cohen's d =    -0.0222\n",
       " 7                         Hedge's g =    -0.0222\n",
       " 8                    Glass's delta1 =    -0.0222\n",
       " 9                  Point-Biserial r =    -0.0111)"
      ]
     },
     "execution_count": 123,
     "metadata": {},
     "output_type": "execute_result"
    }
   ],
   "source": [
    "rp.ttest(group1= df_treatment['Compliant Rate'], group1_name= \"Treatment\",\n",
    "         group2= df_control['Compliant Rate'], group2_name= \"Control\")"
   ]
  },
  {
   "cell_type": "markdown",
   "metadata": {},
   "source": [
    "Control and treatment groups have similar mean and stdev, p value of t-test is 0.7255 > 0.5, indicating the mean of two groups have no statistical significant difference."
   ]
  }
 ],
 "metadata": {
  "kernelspec": {
   "display_name": "Python 3.7.3 ('base')",
   "language": "python",
   "name": "python3"
  },
  "language_info": {
   "codemirror_mode": {
    "name": "ipython",
    "version": 3
   },
   "file_extension": ".py",
   "mimetype": "text/x-python",
   "name": "python",
   "nbconvert_exporter": "python",
   "pygments_lexer": "ipython3",
   "version": "3.7.3"
  },
  "orig_nbformat": 4,
  "vscode": {
   "interpreter": {
    "hash": "b0c0756498af6d4efb4041862dc390b7bc6cbd952a93da867cbbb16b14c2a97c"
   }
  }
 },
 "nbformat": 4,
 "nbformat_minor": 2
}
